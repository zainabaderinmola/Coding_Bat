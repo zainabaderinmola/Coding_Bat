{
 "cells": [
  {
   "cell_type": "code",
   "execution_count": 10,
   "metadata": {},
   "outputs": [
    {
     "data": {
      "text/plain": [
       "'aa'"
      ]
     },
     "execution_count": 10,
     "metadata": {},
     "output_type": "execute_result"
    }
   ],
   "source": [
    "string = 'a'\n",
    "\n",
    "string = string[-1] + string[1:len(string)-1] + string[0]\n",
    "string"
   ]
  },
  {
   "cell_type": "code",
   "execution_count": 17,
   "metadata": {},
   "outputs": [
    {
     "data": {
      "text/plain": [
       "'a'"
      ]
     },
     "execution_count": 17,
     "metadata": {},
     "output_type": "execute_result"
    }
   ],
   "source": [
    "# Given a string, return a new string where the first \n",
    "# and last chars have been exchanged.\n",
    "\n",
    "\n",
    "# front_back('code') → 'eodc'\n",
    "# front_back('a') → 'a'     if str is a char, returns char\n",
    "# front_back('ab') → 'ba'\n",
    "\n",
    "def front_back(str):\n",
    "    if len(str) <= 1:\n",
    "        return str\n",
    "    \n",
    "    # This gets middle of string\n",
    "    mid_str = str[1 : len(str) -1]\n",
    "\n",
    "    return str[-1] + mid_str + str[0]\n",
    "\n",
    "\n",
    "front_back('a')"
   ]
  },
  {
   "cell_type": "code",
   "execution_count": 23,
   "metadata": {},
   "outputs": [
    {
     "data": {
      "text/plain": [
       "True"
      ]
     },
     "execution_count": 23,
     "metadata": {},
     "output_type": "execute_result"
    }
   ],
   "source": [
    "# The parameter weekday is True if it is a\n",
    "#  weekday, and the parameter vacation is True if we are on vacation.\n",
    "#  We sleep in if it is not a weekday or we're on vacation. \n",
    "# Return True if we sleep in.\n",
    "\n",
    "\n",
    "# sleep_in(False, False) → True\n",
    "# sleep_in(True, False) → False\n",
    "# sleep_in(False, True) → True\n",
    "\n",
    "def sleep_in(weekday, vacation):\n",
    "    # if not weekday or vacation:\n",
    "    #     return True\n",
    "    # else:\n",
    "    #     return False\n",
    "    return(not weekday or vacation)\n",
    "    \n",
    "sleep_in(True, True)\n"
   ]
  },
  {
   "cell_type": "code",
   "execution_count": 30,
   "metadata": {},
   "outputs": [
    {
     "data": {
      "text/plain": [
       "18"
      ]
     },
     "execution_count": 30,
     "metadata": {},
     "output_type": "execute_result"
    }
   ],
   "source": [
    "'''\n",
    "Given an int n, return the absolute difference between n and 21,\n",
    "except return double the absolute difference if n is over 21.\n",
    "\n",
    "\n",
    "diff21(19) → 2\n",
    "diff21(10) → 11\n",
    "diff21(21) → 0\n",
    "'''\n",
    "\n",
    "def diff21(n):\n",
    "    if n < 21:\n",
    "        return abs(n - 21)\n",
    "    else:\n",
    "        return 2 * abs(n - 21)\n",
    "    \n",
    "diff21(30)"
   ]
  },
  {
   "cell_type": "code",
   "execution_count": 44,
   "metadata": {},
   "outputs": [
    {
     "data": {
      "text/plain": [
       "False"
      ]
     },
     "execution_count": 44,
     "metadata": {},
     "output_type": "execute_result"
    }
   ],
   "source": [
    "\n",
    "'''We have two monkeys, a and b, and \n",
    "the parameters a_smile and b_smile indicate if \n",
    "each is smiling. We are in trouble if they are both smiling\n",
    "or if neither of them is smiling. Return True if we are in trouble.\n",
    "\n",
    "\n",
    "monkey_trouble(True, True) → True\n",
    "monkey_trouble(False, False) → True\n",
    "monkey_trouble(True, False) → False\n",
    "'''\n",
    "def monkey_trouble(a_smile, b_smile):\n",
    "    if (a_smile and b_smile == True) or (a_smile or b_smile == False):\n",
    "        return True\n",
    "    else:\n",
    "        return False\n",
    "\n",
    "monkey_trouble(False, True)"
   ]
  },
  {
   "cell_type": "code",
   "execution_count": null,
   "metadata": {},
   "outputs": [],
   "source": []
  }
 ],
 "metadata": {
  "kernelspec": {
   "display_name": "Python 3",
   "language": "python",
   "name": "python3"
  },
  "language_info": {
   "codemirror_mode": {
    "name": "ipython",
    "version": 3
   },
   "file_extension": ".py",
   "mimetype": "text/x-python",
   "name": "python",
   "nbconvert_exporter": "python",
   "pygments_lexer": "ipython3",
   "version": "3.11.6"
  }
 },
 "nbformat": 4,
 "nbformat_minor": 2
}
